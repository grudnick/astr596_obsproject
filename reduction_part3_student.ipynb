{
 "cells": [
  {
   "cell_type": "markdown",
   "metadata": {},
   "source": [
    "<h2>OBSERVATIONAL ASTROPHYSICS – FALL 2019 Reduction Exercise: Part 3</h2>\n",
    "\n",
    "In this part you will take all of your images in a given band and align them using a program called \"astroalign\"\n",
    "\n",
    "We will be aligning images with the http://toros-astro.github.io/astroalign/ package\n",
    "\n",
    "First, from within your python3 enviroment you will need to run \"*conda install astroalign*\" to install the package"
   ]
  },
  {
   "cell_type": "code",
   "execution_count": 1,
   "metadata": {},
   "outputs": [],
   "source": [
    "import astroalign as aa\n",
    "import numpy as np\n",
    "import matplotlib.pyplot as plt\n",
    "%matplotlib inline\n",
    "from astropy.io import fits"
   ]
  },
  {
   "cell_type": "markdown",
   "metadata": {},
   "source": [
    "A function that takes an source image name, a target image name to which the source will be transformed, and an output file name.  The output file will be the source image transformed to match the target image."
   ]
  },
  {
   "cell_type": "code",
   "execution_count": 6,
   "metadata": {},
   "outputs": [],
   "source": [
    "\n",
    "def im_trans(filesource,filetarg,fileout):\n",
    "    #filesource is the file that you want to be transformed\n",
    "    #filetarg is the file that you want to transform the first file to\n",
    "    #fileout is the output file that has been transformed\n",
    "\n",
    "    redpath = \"/Users/grudnick/Work/Teaching/Classes/Astro_596/Fall_2019/Observing_project/Data/Reduced/20191104/\"\n",
    "    imgfilesource = redpath + filesource\n",
    "    imgfiletarg = redpath + filetarg\n",
    "    print(imgfilesource)\n",
    "    imgsource, hdrsource = fits.getdata(imgfilesource, header=True)\n",
    "    imgtarg, hdrtarg = fits.getdata(imgfiletarg, header=True)\n",
    "\n",
    "    imgsource_aligned, footprint = aa.register(imgsource, imgtarg)\n",
    "    imtransname = redpath + 's066_testtrans.fits'\n",
    "    fits.writeto(imtransname, imgsource_aligned, header=hdrsource, overwrite=True)\n",
    "\n"
   ]
  },
  {
   "cell_type": "markdown",
   "metadata": {},
   "source": [
    "Make a series of calls to this function that transform each of your images to the first image in that band for each target.  I give an example below."
   ]
  },
  {
   "cell_type": "code",
   "execution_count": 7,
   "metadata": {},
   "outputs": [
    {
     "name": "stdout",
     "output_type": "stream",
     "text": [
      "/Users/grudnick/Work/Teaching/Classes/Astro_596/Fall_2019/Observing_project/Data/Reduced/20191104/s061_trf.fits\n",
      "/Users/grudnick/Work/Teaching/Classes/Astro_596/Fall_2019/Observing_project/Data/Reduced/20191104/s062_trf.fits\n"
     ]
    }
   ],
   "source": [
    "#NGC 7296 V-band\n",
    "im_trans('s061_trf.fits','s060_trf.fits','s061_trfa.fits')\n",
    "im_trans('s062_trf.fits','s060_trf.fits','s062_trfa.fits')"
   ]
  },
  {
   "cell_type": "markdown",
   "metadata": {},
   "source": [
    "Now open the transformed images in ds9 in different and confirm that they are aligned by blinking the frames."
   ]
  }
 ],
 "metadata": {
  "kernelspec": {
   "display_name": "Python 3",
   "language": "python",
   "name": "python3"
  },
  "language_info": {
   "codemirror_mode": {
    "name": "ipython",
    "version": 3
   },
   "file_extension": ".py",
   "mimetype": "text/x-python",
   "name": "python",
   "nbconvert_exporter": "python",
   "pygments_lexer": "ipython3",
   "version": "3.7.4"
  }
 },
 "nbformat": 4,
 "nbformat_minor": 2
}
